{
 "cells": [
  {
   "cell_type": "code",
   "execution_count": 1,
   "id": "assumed-structure",
   "metadata": {
    "execution": {
     "iopub.execute_input": "2021-11-21T09:56:37.523901Z",
     "iopub.status.busy": "2021-11-21T09:56:37.522409Z",
     "iopub.status.idle": "2021-11-21T09:56:39.334913Z",
     "shell.execute_reply": "2021-11-21T09:56:39.335416Z",
     "shell.execute_reply.started": "2021-11-21T09:53:21.774390Z"
    },
    "papermill": {
     "duration": 1.829048,
     "end_time": "2021-11-21T09:56:39.335717",
     "exception": false,
     "start_time": "2021-11-21T09:56:37.506669",
     "status": "completed"
    },
    "tags": []
   },
   "outputs": [],
   "source": [
    "import pandas as pd\n",
    "import os\n",
    "import numpy as np\n",
    "from sklearn.feature_extraction.text import TfidfVectorizer\n",
    "from tqdm import tqdm\n",
    "import gc\n",
    "import torch\n",
    "from PIL import Image\n",
    "from IPython.display import Image,display\n",
    "torch.manual_seed(0)\n",
    "torch.backends.cudnn.deterministic = False\n",
    "torch.backends.cudnn.benchmark = True"
   ]
  },
  {
   "cell_type": "code",
   "execution_count": 2,
   "id": "least-closure",
   "metadata": {
    "execution": {
     "iopub.execute_input": "2021-11-21T09:56:39.364839Z",
     "iopub.status.busy": "2021-11-21T09:56:39.364271Z",
     "iopub.status.idle": "2021-11-21T09:56:39.531482Z",
     "shell.execute_reply": "2021-11-21T09:56:39.531864Z",
     "shell.execute_reply.started": "2021-11-21T09:53:21.784516Z"
    },
    "papermill": {
     "duration": 0.184298,
     "end_time": "2021-11-21T09:56:39.532021",
     "exception": false,
     "start_time": "2021-11-21T09:56:39.347723",
     "status": "completed"
    },
    "tags": []
   },
   "outputs": [
    {
     "data": {
      "text/plain": [
       "(34250, 5)"
      ]
     },
     "execution_count": 2,
     "metadata": {},
     "output_type": "execute_result"
    }
   ],
   "source": [
    "train=pd.read_csv(r'../input/shopee-product-matching/train.csv')\n",
    "train.shape\n"
   ]
  },
  {
   "cell_type": "code",
   "execution_count": 3,
   "id": "described-williams",
   "metadata": {
    "execution": {
     "iopub.execute_input": "2021-11-21T09:56:39.558128Z",
     "iopub.status.busy": "2021-11-21T09:56:39.557431Z",
     "iopub.status.idle": "2021-11-21T09:56:39.560138Z",
     "shell.execute_reply": "2021-11-21T09:56:39.559733Z",
     "shell.execute_reply.started": "2021-11-21T09:53:21.911820Z"
    },
    "papermill": {
     "duration": 0.017016,
     "end_time": "2021-11-21T09:56:39.560245",
     "exception": false,
     "start_time": "2021-11-21T09:56:39.543229",
     "status": "completed"
    },
    "tags": []
   },
   "outputs": [],
   "source": [
    "train_image='../input/shopee-product-matching/train_images'\n",
    "WORK_DIR = '../input/shopee-product-matching'"
   ]
  },
  {
   "cell_type": "code",
   "execution_count": 4,
   "id": "accepting-environment",
   "metadata": {
    "execution": {
     "iopub.execute_input": "2021-11-21T09:56:39.588893Z",
     "iopub.status.busy": "2021-11-21T09:56:39.588152Z",
     "iopub.status.idle": "2021-11-21T09:56:39.590833Z",
     "shell.execute_reply": "2021-11-21T09:56:39.590435Z",
     "shell.execute_reply.started": "2021-11-21T09:53:21.919305Z"
    },
    "papermill": {
     "duration": 0.019773,
     "end_time": "2021-11-21T09:56:39.590935",
     "exception": false,
     "start_time": "2021-11-21T09:56:39.571162",
     "status": "completed"
    },
    "tags": []
   },
   "outputs": [],
   "source": [
    "import re\n",
    "def preprocess(description):\n",
    "  # Actually not required as what we have is titles which usually doesn't contain words that we use for general communication.\n",
    "    description=description.lower()\n",
    "    description=re.sub('[-\\n\\t]+',' ',description)\n",
    "    description= re.sub(r\"won\\'t\", \"will not\",description)\n",
    "    description=re.sub(r\"can\\'t\", \"can not\",description)\n",
    "    description=re.sub(r\"n\\'t\", \" not\",description)\n",
    "    description=re.sub(r\"\\'re\", \" are\",description)\n",
    "    description=re.sub(r\"\\'s\", \" is\",description)\n",
    "    description=re.sub(r\"\\'d\", \" would\",description)\n",
    "    description=re.sub(r\"\\'ll\", \" will\",description)\n",
    "    description=re.sub(r\"\\'t\", \" not\",description)\n",
    "    description=re.sub(r\"\\'ve\", \" have\",description)\n",
    "    description=re.sub(r\"\\'m\", \" am\",description)\n",
    "    description=re.sub('[^a-z0-9]+',' ',description)\n",
    "    description=re.sub('\\s+',' ',description)\n",
    "    return description.strip()"
   ]
  },
  {
   "cell_type": "code",
   "execution_count": 5,
   "id": "accessible-butter",
   "metadata": {
    "execution": {
     "iopub.execute_input": "2021-11-21T09:56:39.621576Z",
     "iopub.status.busy": "2021-11-21T09:56:39.619687Z",
     "iopub.status.idle": "2021-11-21T09:56:40.607533Z",
     "shell.execute_reply": "2021-11-21T09:56:40.607912Z",
     "shell.execute_reply.started": "2021-11-21T09:53:21.934353Z"
    },
    "papermill": {
     "duration": 1.006335,
     "end_time": "2021-11-21T09:56:40.608070",
     "exception": false,
     "start_time": "2021-11-21T09:56:39.601735",
     "status": "completed"
    },
    "tags": []
   },
   "outputs": [
    {
     "name": "stderr",
     "output_type": "stream",
     "text": [
      "100%|██████████| 34250/34250 [00:00<00:00, 34921.96it/s]\n"
     ]
    }
   ],
   "source": [
    "clensed_train=[preprocess(title) for title in tqdm(train.title.values)]"
   ]
  },
  {
   "cell_type": "code",
   "execution_count": 6,
   "id": "waiting-creek",
   "metadata": {
    "execution": {
     "iopub.execute_input": "2021-11-21T09:56:40.690386Z",
     "iopub.status.busy": "2021-11-21T09:56:40.674937Z",
     "iopub.status.idle": "2021-11-21T09:56:42.395912Z",
     "shell.execute_reply": "2021-11-21T09:56:42.396749Z",
     "shell.execute_reply.started": "2021-11-21T09:53:23.177127Z"
    },
    "papermill": {
     "duration": 1.773984,
     "end_time": "2021-11-21T09:56:42.396903",
     "exception": false,
     "start_time": "2021-11-21T09:56:40.622919",
     "status": "completed"
    },
    "tags": []
   },
   "outputs": [
    {
     "name": "stdout",
     "output_type": "stream",
     "text": [
      "CPU times: user 804 ms, sys: 924 ms, total: 1.73 s\n",
      "Wall time: 1.75 s\n"
     ]
    },
    {
     "data": {
      "text/plain": [
       "(34250, 25023)"
      ]
     },
     "execution_count": 6,
     "metadata": {},
     "output_type": "execute_result"
    }
   ],
   "source": [
    "%%time\n",
    "tfidf=TfidfVectorizer()\n",
    "embedded_train=tfidf.fit_transform(clensed_train).toarray()\n",
    "embedded_train.shape"
   ]
  },
  {
   "cell_type": "code",
   "execution_count": 7,
   "id": "historical-sarah",
   "metadata": {
    "execution": {
     "iopub.execute_input": "2021-11-21T09:56:42.476660Z",
     "iopub.status.busy": "2021-11-21T09:56:42.476071Z",
     "iopub.status.idle": "2021-11-21T09:56:49.365746Z",
     "shell.execute_reply": "2021-11-21T09:56:49.364845Z",
     "shell.execute_reply.started": "2021-11-21T09:53:24.960339Z"
    },
    "papermill": {
     "duration": 6.954179,
     "end_time": "2021-11-21T09:56:49.365908",
     "exception": false,
     "start_time": "2021-11-21T09:56:42.411729",
     "status": "completed"
    },
    "tags": []
   },
   "outputs": [],
   "source": [
    "embedded_train=torch.from_numpy(embedded_train)\n",
    "embedded_train=embedded_train.cuda()"
   ]
  },
  {
   "cell_type": "code",
   "execution_count": 8,
   "id": "exterior-calgary",
   "metadata": {
    "execution": {
     "iopub.execute_input": "2021-11-21T09:56:49.402794Z",
     "iopub.status.busy": "2021-11-21T09:56:49.402100Z",
     "iopub.status.idle": "2021-11-21T09:57:37.178483Z",
     "shell.execute_reply": "2021-11-21T09:57:37.178923Z",
     "shell.execute_reply.started": "2021-11-21T09:53:27.703341Z"
    },
    "papermill": {
     "duration": 47.797954,
     "end_time": "2021-11-21T09:57:37.179081",
     "exception": false,
     "start_time": "2021-11-21T09:56:49.381127",
     "status": "completed"
    },
    "tags": []
   },
   "outputs": [
    {
     "name": "stderr",
     "output_type": "stream",
     "text": [
      "100%|██████████| 69/69 [00:47<00:00,  1.44it/s]"
     ]
    },
    {
     "name": "stdout",
     "output_type": "stream",
     "text": [
      "CPU times: user 42.5 s, sys: 4.72 s, total: 47.2 s\n",
      "Wall time: 47.8 s\n"
     ]
    },
    {
     "name": "stderr",
     "output_type": "stream",
     "text": [
      "\n"
     ]
    }
   ],
   "source": [
    "%%time\n",
    "matches=[]\n",
    "chunksize=500\n",
    "chunks=len(train)//chunksize if len(train)%chunksize==0 else (len(train)//chunksize)+1\n",
    "chunks\n",
    "for chunk in tqdm(range(chunks)):\n",
    "    start=chunk*chunksize\n",
    "    end=min(len(train),start+chunksize)\n",
    "    cossim=torch.matmul(embedded_train,embedded_train[start:end].T).T\n",
    "    cossim=cossim.data.cpu().numpy()\n",
    "    for per_posting in cossim:\n",
    "        indices=np.where(per_posting>=0.65)[0]\n",
    "        match=train.iloc[indices].posting_id.values\n",
    "        if len(match.tolist())>50:\n",
    "            ind=np.where(per_posting>=sorted(per_posting)[-50])[0]\n",
    "            match=train.iloc[ind].posting_id.values\n",
    "        matches.append(' '.join(match.tolist()))"
   ]
  },
  {
   "cell_type": "code",
   "execution_count": 9,
   "id": "likely-detective",
   "metadata": {
    "execution": {
     "iopub.execute_input": "2021-11-21T09:57:37.256614Z",
     "iopub.status.busy": "2021-11-21T09:57:37.255997Z",
     "iopub.status.idle": "2021-11-21T09:57:37.260014Z",
     "shell.execute_reply": "2021-11-21T09:57:37.260461Z",
     "shell.execute_reply.started": "2021-11-21T09:54:16.093408Z"
    },
    "papermill": {
     "duration": 0.046565,
     "end_time": "2021-11-21T09:57:37.260610",
     "exception": false,
     "start_time": "2021-11-21T09:57:37.214045",
     "status": "completed"
    },
    "tags": []
   },
   "outputs": [],
   "source": [
    "# create a function that takes title as input \n",
    "# returns the names of the matches \n",
    "# returns own image and the matching images "
   ]
  },
  {
   "cell_type": "code",
   "execution_count": 10,
   "id": "protecting-forestry",
   "metadata": {
    "execution": {
     "iopub.execute_input": "2021-11-21T09:57:37.338983Z",
     "iopub.status.busy": "2021-11-21T09:57:37.338256Z",
     "iopub.status.idle": "2021-11-21T09:57:37.341805Z",
     "shell.execute_reply": "2021-11-21T09:57:37.341292Z",
     "shell.execute_reply.started": "2021-11-21T09:54:16.100516Z"
    },
    "papermill": {
     "duration": 0.044955,
     "end_time": "2021-11-21T09:57:37.341922",
     "exception": false,
     "start_time": "2021-11-21T09:57:37.296967",
     "status": "completed"
    },
    "tags": []
   },
   "outputs": [],
   "source": [
    "from IPython.display import Image,display\n",
    "def txt_return_img (df):\n",
    "    i=input(\"enter item name:\")\n",
    "    p=next(iter(df[df['title']==i].index))\n",
    "    image_dis(df['image'],p)\n",
    "    return df.loc[df['title']==i]\n",
    "\n",
    "def image_dis(dfs,o):\n",
    "    return display(Image(filename='../input/shopee-product-matching/train_images/'+dfs[o],width=480,height=360))\n",
    "#df.loc[df['title']].str.contains(i,regex=True,case=False)]"
   ]
  },
  {
   "cell_type": "code",
   "execution_count": 11,
   "id": "every-meditation",
   "metadata": {
    "execution": {
     "iopub.execute_input": "2021-11-21T09:57:37.423138Z",
     "iopub.status.busy": "2021-11-21T09:57:37.422582Z",
     "iopub.status.idle": "2021-11-21T09:57:37.432141Z",
     "shell.execute_reply": "2021-11-21T09:57:37.431726Z",
     "shell.execute_reply.started": "2021-11-21T09:54:16.115694Z"
    },
    "papermill": {
     "duration": 0.055393,
     "end_time": "2021-11-21T09:57:37.432240",
     "exception": false,
     "start_time": "2021-11-21T09:57:37.376847",
     "status": "completed"
    },
    "tags": []
   },
   "outputs": [
    {
     "data": {
      "text/html": [
       "<div>\n",
       "<style scoped>\n",
       "    .dataframe tbody tr th:only-of-type {\n",
       "        vertical-align: middle;\n",
       "    }\n",
       "\n",
       "    .dataframe tbody tr th {\n",
       "        vertical-align: top;\n",
       "    }\n",
       "\n",
       "    .dataframe thead th {\n",
       "        text-align: right;\n",
       "    }\n",
       "</style>\n",
       "<table border=\"1\" class=\"dataframe\">\n",
       "  <thead>\n",
       "    <tr style=\"text-align: right;\">\n",
       "      <th></th>\n",
       "      <th>posting_id</th>\n",
       "      <th>image</th>\n",
       "      <th>image_phash</th>\n",
       "      <th>title</th>\n",
       "      <th>label_group</th>\n",
       "      <th>matches</th>\n",
       "    </tr>\n",
       "  </thead>\n",
       "  <tbody>\n",
       "    <tr>\n",
       "      <th>0</th>\n",
       "      <td>train_129225211</td>\n",
       "      <td>0000a68812bc7e98c42888dfb1c07da0.jpg</td>\n",
       "      <td>94974f937d4c2433</td>\n",
       "      <td>Paper Bag Victoria Secret</td>\n",
       "      <td>249114794</td>\n",
       "      <td>train_129225211 train_2278313361</td>\n",
       "    </tr>\n",
       "    <tr>\n",
       "      <th>1</th>\n",
       "      <td>train_3386243561</td>\n",
       "      <td>00039780dfc94d01db8676fe789ecd05.jpg</td>\n",
       "      <td>af3f9460c2838f0f</td>\n",
       "      <td>Double Tape 3M VHB 12 mm x 4,5 m ORIGINAL / DO...</td>\n",
       "      <td>2937985045</td>\n",
       "      <td>train_3386243561</td>\n",
       "    </tr>\n",
       "    <tr>\n",
       "      <th>2</th>\n",
       "      <td>train_2288590299</td>\n",
       "      <td>000a190fdd715a2a36faed16e2c65df7.jpg</td>\n",
       "      <td>b94cb00ed3e50f78</td>\n",
       "      <td>Maling TTS Canned Pork Luncheon Meat 397 gr</td>\n",
       "      <td>2395904891</td>\n",
       "      <td>train_2288590299 train_3803689425</td>\n",
       "    </tr>\n",
       "    <tr>\n",
       "      <th>3</th>\n",
       "      <td>train_2406599165</td>\n",
       "      <td>00117e4fc239b1b641ff08340b429633.jpg</td>\n",
       "      <td>8514fc58eafea283</td>\n",
       "      <td>Daster Batik Lengan pendek - Motif Acak / Camp...</td>\n",
       "      <td>4093212188</td>\n",
       "      <td>train_2406599165 train_3576714541 train_150810...</td>\n",
       "    </tr>\n",
       "    <tr>\n",
       "      <th>4</th>\n",
       "      <td>train_3369186413</td>\n",
       "      <td>00136d1cf4edede0203f32f05f660588.jpg</td>\n",
       "      <td>a6f319f924ad708c</td>\n",
       "      <td>Nescafe \\xc3\\x89clair Latte 220ml</td>\n",
       "      <td>3648931069</td>\n",
       "      <td>train_3369186413</td>\n",
       "    </tr>\n",
       "    <tr>\n",
       "      <th>5</th>\n",
       "      <td>train_2464356923</td>\n",
       "      <td>0013e7355ffc5ff8fb1ccad3e42d92fe.jpg</td>\n",
       "      <td>bbd097a7870f4a50</td>\n",
       "      <td>CELANA WANITA  (BB 45-84 KG)Harem wanita (bisa...</td>\n",
       "      <td>2660605217</td>\n",
       "      <td>train_2464356923</td>\n",
       "    </tr>\n",
       "    <tr>\n",
       "      <th>6</th>\n",
       "      <td>train_1802986387</td>\n",
       "      <td>00144a49c56599d45354a1c28104c039.jpg</td>\n",
       "      <td>f815c9bb833ab4c8</td>\n",
       "      <td>Jubah anak size 1-12 thn</td>\n",
       "      <td>1835033137</td>\n",
       "      <td>train_1802986387 train_1396161074</td>\n",
       "    </tr>\n",
       "    <tr>\n",
       "      <th>7</th>\n",
       "      <td>train_1806152124</td>\n",
       "      <td>0014f61389cbaa687a58e38a97b6383d.jpg</td>\n",
       "      <td>eea7e1c0c04da33d</td>\n",
       "      <td>KULOT PLISKET SALUR /CANDY PLISKET /WISH KULOT...</td>\n",
       "      <td>1565741687</td>\n",
       "      <td>train_1806152124</td>\n",
       "    </tr>\n",
       "    <tr>\n",
       "      <th>8</th>\n",
       "      <td>train_86570404</td>\n",
       "      <td>0019a3c6755a194cb2e2c12bfc63972e.jpg</td>\n",
       "      <td>ea9af4f483249972</td>\n",
       "      <td>[LOGU] Tempelan kulkas magnet angka, tempelan ...</td>\n",
       "      <td>2359912463</td>\n",
       "      <td>train_86570404 train_2269068443 train_115157077</td>\n",
       "    </tr>\n",
       "    <tr>\n",
       "      <th>9</th>\n",
       "      <td>train_831680791</td>\n",
       "      <td>001be52b2beec40ddc1d2d7fc7a68f08.jpg</td>\n",
       "      <td>e1ce953d1a70618f</td>\n",
       "      <td>BIG SALE SEPATU PANTOFEL KULIT KEREN KERJA KAN...</td>\n",
       "      <td>2630990665</td>\n",
       "      <td>train_831680791</td>\n",
       "    </tr>\n",
       "  </tbody>\n",
       "</table>\n",
       "</div>"
      ],
      "text/plain": [
       "         posting_id                                 image       image_phash  \\\n",
       "0   train_129225211  0000a68812bc7e98c42888dfb1c07da0.jpg  94974f937d4c2433   \n",
       "1  train_3386243561  00039780dfc94d01db8676fe789ecd05.jpg  af3f9460c2838f0f   \n",
       "2  train_2288590299  000a190fdd715a2a36faed16e2c65df7.jpg  b94cb00ed3e50f78   \n",
       "3  train_2406599165  00117e4fc239b1b641ff08340b429633.jpg  8514fc58eafea283   \n",
       "4  train_3369186413  00136d1cf4edede0203f32f05f660588.jpg  a6f319f924ad708c   \n",
       "5  train_2464356923  0013e7355ffc5ff8fb1ccad3e42d92fe.jpg  bbd097a7870f4a50   \n",
       "6  train_1802986387  00144a49c56599d45354a1c28104c039.jpg  f815c9bb833ab4c8   \n",
       "7  train_1806152124  0014f61389cbaa687a58e38a97b6383d.jpg  eea7e1c0c04da33d   \n",
       "8    train_86570404  0019a3c6755a194cb2e2c12bfc63972e.jpg  ea9af4f483249972   \n",
       "9   train_831680791  001be52b2beec40ddc1d2d7fc7a68f08.jpg  e1ce953d1a70618f   \n",
       "\n",
       "                                               title  label_group  \\\n",
       "0                          Paper Bag Victoria Secret    249114794   \n",
       "1  Double Tape 3M VHB 12 mm x 4,5 m ORIGINAL / DO...   2937985045   \n",
       "2        Maling TTS Canned Pork Luncheon Meat 397 gr   2395904891   \n",
       "3  Daster Batik Lengan pendek - Motif Acak / Camp...   4093212188   \n",
       "4                  Nescafe \\xc3\\x89clair Latte 220ml   3648931069   \n",
       "5  CELANA WANITA  (BB 45-84 KG)Harem wanita (bisa...   2660605217   \n",
       "6                           Jubah anak size 1-12 thn   1835033137   \n",
       "7  KULOT PLISKET SALUR /CANDY PLISKET /WISH KULOT...   1565741687   \n",
       "8  [LOGU] Tempelan kulkas magnet angka, tempelan ...   2359912463   \n",
       "9  BIG SALE SEPATU PANTOFEL KULIT KEREN KERJA KAN...   2630990665   \n",
       "\n",
       "                                             matches  \n",
       "0                   train_129225211 train_2278313361  \n",
       "1                                   train_3386243561  \n",
       "2                  train_2288590299 train_3803689425  \n",
       "3  train_2406599165 train_3576714541 train_150810...  \n",
       "4                                   train_3369186413  \n",
       "5                                   train_2464356923  \n",
       "6                  train_1802986387 train_1396161074  \n",
       "7                                   train_1806152124  \n",
       "8    train_86570404 train_2269068443 train_115157077  \n",
       "9                                    train_831680791  "
      ]
     },
     "execution_count": 11,
     "metadata": {},
     "output_type": "execute_result"
    }
   ],
   "source": [
    "train['matches']=matches\n",
    "train.head(10)"
   ]
  },
  {
   "cell_type": "code",
   "execution_count": 12,
   "id": "auburn-ratio",
   "metadata": {
    "execution": {
     "iopub.execute_input": "2021-11-21T09:57:37.505600Z",
     "iopub.status.busy": "2021-11-21T09:57:37.503777Z",
     "iopub.status.idle": "2021-11-21T09:57:37.518690Z",
     "shell.execute_reply": "2021-11-21T09:57:37.518241Z",
     "shell.execute_reply.started": "2021-11-21T09:54:47.651415Z"
    },
    "papermill": {
     "duration": 0.052672,
     "end_time": "2021-11-21T09:57:37.518797",
     "exception": false,
     "start_time": "2021-11-21T09:57:37.466125",
     "status": "completed"
    },
    "tags": []
   },
   "outputs": [
    {
     "data": {
      "text/html": [
       "<div>\n",
       "<style scoped>\n",
       "    .dataframe tbody tr th:only-of-type {\n",
       "        vertical-align: middle;\n",
       "    }\n",
       "\n",
       "    .dataframe tbody tr th {\n",
       "        vertical-align: top;\n",
       "    }\n",
       "\n",
       "    .dataframe thead th {\n",
       "        text-align: right;\n",
       "    }\n",
       "</style>\n",
       "<table border=\"1\" class=\"dataframe\">\n",
       "  <thead>\n",
       "    <tr style=\"text-align: right;\">\n",
       "      <th></th>\n",
       "      <th>posting_id</th>\n",
       "      <th>matches</th>\n",
       "    </tr>\n",
       "  </thead>\n",
       "  <tbody>\n",
       "    <tr>\n",
       "      <th>0</th>\n",
       "      <td>train_129225211</td>\n",
       "      <td>train_129225211 train_2278313361</td>\n",
       "    </tr>\n",
       "    <tr>\n",
       "      <th>1</th>\n",
       "      <td>train_3386243561</td>\n",
       "      <td>train_3386243561</td>\n",
       "    </tr>\n",
       "    <tr>\n",
       "      <th>2</th>\n",
       "      <td>train_2288590299</td>\n",
       "      <td>train_2288590299 train_3803689425</td>\n",
       "    </tr>\n",
       "    <tr>\n",
       "      <th>3</th>\n",
       "      <td>train_2406599165</td>\n",
       "      <td>train_2406599165 train_3576714541 train_150810...</td>\n",
       "    </tr>\n",
       "    <tr>\n",
       "      <th>4</th>\n",
       "      <td>train_3369186413</td>\n",
       "      <td>train_3369186413</td>\n",
       "    </tr>\n",
       "    <tr>\n",
       "      <th>...</th>\n",
       "      <td>...</td>\n",
       "      <td>...</td>\n",
       "    </tr>\n",
       "    <tr>\n",
       "      <th>34245</th>\n",
       "      <td>train_4028265689</td>\n",
       "      <td>train_4028265689</td>\n",
       "    </tr>\n",
       "    <tr>\n",
       "      <th>34246</th>\n",
       "      <td>train_769054909</td>\n",
       "      <td>train_1463059254 train_2530102819 train_769054909</td>\n",
       "    </tr>\n",
       "    <tr>\n",
       "      <th>34247</th>\n",
       "      <td>train_614977732</td>\n",
       "      <td>train_512157627 train_614977732</td>\n",
       "    </tr>\n",
       "    <tr>\n",
       "      <th>34248</th>\n",
       "      <td>train_3630949769</td>\n",
       "      <td>train_3419392575 train_1431563868 train_363094...</td>\n",
       "    </tr>\n",
       "    <tr>\n",
       "      <th>34249</th>\n",
       "      <td>train_1792180725</td>\n",
       "      <td>train_1792180725</td>\n",
       "    </tr>\n",
       "  </tbody>\n",
       "</table>\n",
       "<p>34250 rows × 2 columns</p>\n",
       "</div>"
      ],
      "text/plain": [
       "             posting_id                                            matches\n",
       "0       train_129225211                   train_129225211 train_2278313361\n",
       "1      train_3386243561                                   train_3386243561\n",
       "2      train_2288590299                  train_2288590299 train_3803689425\n",
       "3      train_2406599165  train_2406599165 train_3576714541 train_150810...\n",
       "4      train_3369186413                                   train_3369186413\n",
       "...                 ...                                                ...\n",
       "34245  train_4028265689                                   train_4028265689\n",
       "34246   train_769054909  train_1463059254 train_2530102819 train_769054909\n",
       "34247   train_614977732                    train_512157627 train_614977732\n",
       "34248  train_3630949769  train_3419392575 train_1431563868 train_363094...\n",
       "34249  train_1792180725                                   train_1792180725\n",
       "\n",
       "[34250 rows x 2 columns]"
      ]
     },
     "execution_count": 12,
     "metadata": {},
     "output_type": "execute_result"
    }
   ],
   "source": [
    "submission=train[['posting_id','matches']]\n",
    "submission"
   ]
  },
  {
   "cell_type": "code",
   "execution_count": 13,
   "id": "different-light",
   "metadata": {
    "execution": {
     "iopub.execute_input": "2021-11-21T09:57:37.690738Z",
     "iopub.status.busy": "2021-11-21T09:57:37.689788Z",
     "iopub.status.idle": "2021-11-21T09:57:37.692839Z",
     "shell.execute_reply": "2021-11-21T09:57:37.693256Z",
     "shell.execute_reply.started": "2021-11-21T09:55:20.979662Z"
    },
    "papermill": {
     "duration": 0.140157,
     "end_time": "2021-11-21T09:57:37.693419",
     "exception": false,
     "start_time": "2021-11-21T09:57:37.553262",
     "status": "completed"
    },
    "tags": []
   },
   "outputs": [
    {
     "data": {
      "text/plain": [
       "66"
      ]
     },
     "execution_count": 13,
     "metadata": {},
     "output_type": "execute_result"
    }
   ],
   "source": [
    "del embedded_train,train\n",
    "gc.collect()"
   ]
  },
  {
   "cell_type": "code",
   "execution_count": 14,
   "id": "civilian-incentive",
   "metadata": {
    "execution": {
     "iopub.execute_input": "2021-11-21T09:57:37.774135Z",
     "iopub.status.busy": "2021-11-21T09:57:37.773648Z",
     "iopub.status.idle": "2021-11-21T09:57:37.780513Z",
     "shell.execute_reply": "2021-11-21T09:57:37.780889Z",
     "shell.execute_reply.started": "2021-11-21T09:55:42.146260Z"
    },
    "papermill": {
     "duration": 0.04978,
     "end_time": "2021-11-21T09:57:37.781020",
     "exception": false,
     "start_time": "2021-11-21T09:57:37.731240",
     "status": "completed"
    },
    "tags": []
   },
   "outputs": [],
   "source": [
    "submission=pd.read_csv(r'../input/shopee-product-matching/sample_submission.csv')"
   ]
  },
  {
   "cell_type": "code",
   "execution_count": 15,
   "id": "vocal-blond",
   "metadata": {
    "execution": {
     "iopub.execute_input": "2021-11-21T09:57:37.853023Z",
     "iopub.status.busy": "2021-11-21T09:57:37.852528Z",
     "iopub.status.idle": "2021-11-21T09:57:37.975283Z",
     "shell.execute_reply": "2021-11-21T09:57:37.974853Z",
     "shell.execute_reply.started": "2021-11-21T09:56:00.106345Z"
    },
    "papermill": {
     "duration": 0.160281,
     "end_time": "2021-11-21T09:57:37.975427",
     "exception": false,
     "start_time": "2021-11-21T09:57:37.815146",
     "status": "completed"
    },
    "tags": []
   },
   "outputs": [],
   "source": [
    "submission.to_csv('submission.csv',index=False)"
   ]
  }
 ],
 "metadata": {
  "kernelspec": {
   "display_name": "Python 3",
   "language": "python",
   "name": "python3"
  },
  "language_info": {
   "codemirror_mode": {
    "name": "ipython",
    "version": 3
   },
   "file_extension": ".py",
   "mimetype": "text/x-python",
   "name": "python",
   "nbconvert_exporter": "python",
   "pygments_lexer": "ipython3",
   "version": "3.7.10"
  },
  "papermill": {
   "default_parameters": {},
   "duration": 68.642821,
   "end_time": "2021-11-21T09:57:39.732126",
   "environment_variables": {},
   "exception": null,
   "input_path": "__notebook__.ipynb",
   "output_path": "__notebook__.ipynb",
   "parameters": {},
   "start_time": "2021-11-21T09:56:31.089305",
   "version": "2.3.3"
  }
 },
 "nbformat": 4,
 "nbformat_minor": 5
}
